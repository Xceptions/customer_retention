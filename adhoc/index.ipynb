{
 "cells": [
  {
   "cell_type": "markdown",
   "metadata": {},
   "source": [
    "### Note\n",
    "\n",
    "Real project was done to predict the customer retention of a bank after 2 years. This analysis was done on randomized data that falls within the range of the actual data in the project and not the actual data. This was done purposely to ensure that actual company data is protected and company privacy respected. Also, all columns were renamed to dummy names of the alphabet while the target column was named \"target\". The main aim of this project is to show the process taken in our machine learning.\n",
    "\n",
    "All columns are numbers\n",
    "\n",
    "1 - Customer retained,\n",
    "0 - Customer lost"
   ]
  },
  {
   "cell_type": "code",
   "execution_count": 1,
   "metadata": {},
   "outputs": [],
   "source": [
    "import numpy as np\n",
    "import pandas as pd\n",
    "import lightgbm as lgb\n",
    "import xgboost as xgb\n",
    "from sklearn.model_selection import train_test_split\n",
    "from sklearn.metrics import confusion_matrix, precision_score, recall_score\n",
    "from sklearn.model_selection import KFold\n",
    "import pickle\n",
    "import matplotlib.pyplot as plt\n",
    "import seaborn as sns"
   ]
  },
  {
   "cell_type": "code",
   "execution_count": 2,
   "metadata": {},
   "outputs": [],
   "source": [
    "df_train = pd.read_csv('./data/train.csv')\n",
    "df_test = pd.read_csv('./data/test.csv')"
   ]
  },
  {
   "cell_type": "markdown",
   "metadata": {},
   "source": [
    "### Exploratory Data Analysis"
   ]
  },
  {
   "cell_type": "markdown",
   "metadata": {},
   "source": [
    "We would try to extract as much information as we can from the data"
   ]
  },
  {
   "cell_type": "code",
   "execution_count": 3,
   "metadata": {},
   "outputs": [
    {
     "name": "stdout",
     "output_type": "stream",
     "text": [
      "Size of train set is (150000, 11)\n",
      "Size of test set is (101503, 11)\n"
     ]
    }
   ],
   "source": [
    "print(f'Size of train set is {df_train.shape}')\n",
    "print(f'Size of test set is {df_test.shape}')"
   ]
  },
  {
   "cell_type": "markdown",
   "metadata": {},
   "source": [
    "Reducing memory size using type casting"
   ]
  },
  {
   "cell_type": "code",
   "execution_count": 4,
   "metadata": {},
   "outputs": [
    {
     "name": "stdout",
     "output_type": "stream",
     "text": [
      "Memory usage of dataframe is 12.59 MB\n",
      "Memory usage after optimization is: 2.72 MB\n",
      "Decreased by 78.4%\n",
      "Memory usage of dataframe is 8.52 MB\n",
      "Memory usage after optimization is: 2.52 MB\n",
      "Decreased by 70.5%\n"
     ]
    }
   ],
   "source": [
    "def reduce_mem_usage(df):\n",
    "    \"\"\" iterate through all the columns of a dataframe and modify the data type\n",
    "        to reduce memory usage.        \n",
    "    \"\"\"\n",
    "    start_mem = df.memory_usage().sum() / 1024**2\n",
    "    print('Memory usage of dataframe is {:.2f} MB'.format(start_mem))\n",
    "    \n",
    "    for col in df.columns:\n",
    "        col_type = df[col].dtype\n",
    "        \n",
    "        if col_type != object:\n",
    "            c_min = df[col].min()\n",
    "            c_max = df[col].max()\n",
    "            if str(col_type)[:3] == 'int':\n",
    "                if c_min > np.iinfo(np.int8).min and c_max < np.iinfo(np.int8).max:\n",
    "                    df[col] = df[col].astype(np.int8)\n",
    "                elif c_min > np.iinfo(np.int16).min and c_max < np.iinfo(np.int16).max:\n",
    "                    df[col] = df[col].astype(np.int16)\n",
    "                elif c_min > np.iinfo(np.int32).min and c_max < np.iinfo(np.int32).max:\n",
    "                    df[col] = df[col].astype(np.int32)\n",
    "                elif c_min > np.iinfo(np.int64).min and c_max < np.iinfo(np.int64).max:\n",
    "                    df[col] = df[col].astype(np.int64)  \n",
    "            else:\n",
    "                if c_min > np.finfo(np.float16).min and c_max < np.finfo(np.float16).max:\n",
    "                    df[col] = df[col].astype(np.float16)\n",
    "                elif c_min > np.finfo(np.float32).min and c_max < np.finfo(np.float32).max:\n",
    "                    df[col] = df[col].astype(np.float32)\n",
    "                else:\n",
    "                    df[col] = df[col].astype(np.float64)\n",
    "        else:\n",
    "            df[col] = df[col].astype('category')\n",
    "\n",
    "    end_mem = df.memory_usage().sum() / 1024**2\n",
    "    print('Memory usage after optimization is: {:.2f} MB'.format(end_mem))\n",
    "    print('Decreased by {:.1f}%'.format(100 * (start_mem - end_mem) / start_mem))\n",
    "    \n",
    "    return df\n",
    "\n",
    "df_train = reduce_mem_usage(df_train)\n",
    "df_test = reduce_mem_usage(df_test)"
   ]
  },
  {
   "cell_type": "code",
   "execution_count": 5,
   "metadata": {},
   "outputs": [
    {
     "data": {
      "text/html": [
       "<div>\n",
       "<style scoped>\n",
       "    .dataframe tbody tr th:only-of-type {\n",
       "        vertical-align: middle;\n",
       "    }\n",
       "\n",
       "    .dataframe tbody tr th {\n",
       "        vertical-align: top;\n",
       "    }\n",
       "\n",
       "    .dataframe thead th {\n",
       "        text-align: right;\n",
       "    }\n",
       "</style>\n",
       "<table border=\"1\" class=\"dataframe\">\n",
       "  <thead>\n",
       "    <tr style=\"text-align: right;\">\n",
       "      <th></th>\n",
       "      <th>Target</th>\n",
       "      <th>A</th>\n",
       "      <th>B</th>\n",
       "      <th>C</th>\n",
       "      <th>D</th>\n",
       "      <th>E</th>\n",
       "      <th>F</th>\n",
       "      <th>G</th>\n",
       "      <th>H</th>\n",
       "      <th>I</th>\n",
       "      <th>J</th>\n",
       "    </tr>\n",
       "  </thead>\n",
       "  <tbody>\n",
       "    <tr>\n",
       "      <th>0</th>\n",
       "      <td>1</td>\n",
       "      <td>0.766113</td>\n",
       "      <td>45</td>\n",
       "      <td>2</td>\n",
       "      <td>0.802982</td>\n",
       "      <td>9120.0</td>\n",
       "      <td>13</td>\n",
       "      <td>0</td>\n",
       "      <td>6</td>\n",
       "      <td>0</td>\n",
       "      <td>2.0</td>\n",
       "    </tr>\n",
       "    <tr>\n",
       "      <th>1</th>\n",
       "      <td>0</td>\n",
       "      <td>0.957031</td>\n",
       "      <td>40</td>\n",
       "      <td>0</td>\n",
       "      <td>0.121876</td>\n",
       "      <td>2600.0</td>\n",
       "      <td>4</td>\n",
       "      <td>0</td>\n",
       "      <td>0</td>\n",
       "      <td>0</td>\n",
       "      <td>1.0</td>\n",
       "    </tr>\n",
       "    <tr>\n",
       "      <th>2</th>\n",
       "      <td>0</td>\n",
       "      <td>0.658203</td>\n",
       "      <td>38</td>\n",
       "      <td>1</td>\n",
       "      <td>0.085113</td>\n",
       "      <td>3042.0</td>\n",
       "      <td>2</td>\n",
       "      <td>1</td>\n",
       "      <td>0</td>\n",
       "      <td>0</td>\n",
       "      <td>0.0</td>\n",
       "    </tr>\n",
       "    <tr>\n",
       "      <th>3</th>\n",
       "      <td>0</td>\n",
       "      <td>0.233765</td>\n",
       "      <td>30</td>\n",
       "      <td>0</td>\n",
       "      <td>0.036050</td>\n",
       "      <td>3300.0</td>\n",
       "      <td>5</td>\n",
       "      <td>0</td>\n",
       "      <td>0</td>\n",
       "      <td>0</td>\n",
       "      <td>0.0</td>\n",
       "    </tr>\n",
       "    <tr>\n",
       "      <th>4</th>\n",
       "      <td>0</td>\n",
       "      <td>0.907227</td>\n",
       "      <td>49</td>\n",
       "      <td>1</td>\n",
       "      <td>0.024926</td>\n",
       "      <td>63588.0</td>\n",
       "      <td>7</td>\n",
       "      <td>0</td>\n",
       "      <td>1</td>\n",
       "      <td>0</td>\n",
       "      <td>0.0</td>\n",
       "    </tr>\n",
       "  </tbody>\n",
       "</table>\n",
       "</div>"
      ],
      "text/plain": [
       "   Target         A   B  C         D        E   F  G  H  I    J\n",
       "0       1  0.766113  45  2  0.802982   9120.0  13  0  6  0  2.0\n",
       "1       0  0.957031  40  0  0.121876   2600.0   4  0  0  0  1.0\n",
       "2       0  0.658203  38  1  0.085113   3042.0   2  1  0  0  0.0\n",
       "3       0  0.233765  30  0  0.036050   3300.0   5  0  0  0  0.0\n",
       "4       0  0.907227  49  1  0.024926  63588.0   7  0  1  0  0.0"
      ]
     },
     "execution_count": 5,
     "metadata": {},
     "output_type": "execute_result"
    }
   ],
   "source": [
    "df_train.head()"
   ]
  },
  {
   "cell_type": "code",
   "execution_count": 6,
   "metadata": {},
   "outputs": [
    {
     "data": {
      "text/plain": [
       "array(['Target', 'A', 'B', 'C', 'D', 'E', 'F', 'G', 'H', 'I', 'J'],\n",
       "      dtype=object)"
      ]
     },
     "execution_count": 6,
     "metadata": {},
     "output_type": "execute_result"
    }
   ],
   "source": [
    "df_train.columns.values"
   ]
  },
  {
   "cell_type": "markdown",
   "metadata": {},
   "source": [
    "Checking for the distribution of the targets"
   ]
  },
  {
   "cell_type": "code",
   "execution_count": 7,
   "metadata": {},
   "outputs": [
    {
     "name": "stdout",
     "output_type": "stream",
     "text": [
      "        Target         A   B  C            D        E   F  G  H  I    J\n",
      "1            0  0.957031  40  0     0.121876   2600.0   4  0  0  0  1.0\n",
      "2            0  0.658203  38  1     0.085113   3042.0   2  1  0  0  0.0\n",
      "3            0  0.233765  30  0     0.036050   3300.0   5  0  0  0  0.0\n",
      "4            0  0.907227  49  1     0.024926  63588.0   7  0  1  0  0.0\n",
      "5            0  0.213135  74  0     0.375607   3500.0   3  0  1  0  1.0\n",
      "...        ...       ...  .. ..          ...      ...  .. .. .. ..  ...\n",
      "149995       0  0.040680  74  0     0.225131   2100.0   4  0  1  0  0.0\n",
      "149996       0  0.299805  44  0     0.716562   5584.0   4  0  1  0  2.0\n",
      "149997       0  0.246094  58  0  3870.000000      NaN  18  0  1  0  0.0\n",
      "149998       0  0.000000  30  0     0.000000   5716.0   4  0  0  0  0.0\n",
      "149999       0  0.850098  64  0     0.249908   8158.0   8  0  2  0  0.0\n",
      "\n",
      "[139974 rows x 11 columns]\n",
      "        Target         A   B  C           D        E   F  G  H  I    J\n",
      "0            1  0.766113  45  2    0.802982   9120.0  13  0  6  0  2.0\n",
      "13           1  0.964844  40  3    0.382965  13700.0   9  3  1  1  2.0\n",
      "21           1  0.025650  38  0    0.475841   3000.0   7  0  1  0  2.0\n",
      "25           1  0.392334  50  0    1.595253   4676.0  14  0  3  0  1.0\n",
      "51           1  0.728027  31  0    0.824725   3000.0  10  0  2  0  1.0\n",
      "...        ...       ...  .. ..         ...      ...  .. .. .. ..  ...\n",
      "149954       1  1.000000  46  0  170.398010    401.0   3  2  0  0  2.0\n",
      "149955       1  1.135742  41  2    0.845887   7500.0  12  0  4  1  0.0\n",
      "149961       1  0.919922  31  1    0.176732   1125.0   4  1  0  0  0.0\n",
      "149968       1  0.983887  55  0    0.064116   4600.0   2  1  0  0  6.0\n",
      "149979       1  0.224731  55  0    0.057235   8700.0   7  0  0  0  0.0\n",
      "\n",
      "[10026 rows x 11 columns]\n"
     ]
    }
   ],
   "source": [
    "for key, d in df_train.groupby('Target'):\n",
    "    print(d)"
   ]
  },
  {
   "cell_type": "code",
   "execution_count": 8,
   "metadata": {},
   "outputs": [
    {
     "data": {
      "image/png": "[encoded data removed]",
      "text/plain": [
       "<Figure size 576x432 with 1 Axes>"
      ]
     },
     "metadata": {
      "needs_background": "light"
     },
     "output_type": "display_data"
    }
   ],
   "source": [
    "plt.figure(figsize=(8,6))\n",
    "plt.scatter(range(df_train.shape[0]), np.sort(df_train['Target'].values))\n",
    "plt.xlabel('index', fontsize=12)\n",
    "plt.ylabel('Target', fontsize=12)\n",
    "plt.title(\"Target Distribution\", fontsize=14)\n",
    "plt.show()"
   ]
  },
  {
   "cell_type": "markdown",
   "metadata": {},
   "source": [
    "We can see from the above that we have an unbalanced dataset. The number of customers they lost were **a lot more** than the number they retained. This imbalance could be a problem to our machine learning\n",
    "\n",
    "For a better view:"
   ]
  },
  {
   "cell_type": "code",
   "execution_count": 9,
   "metadata": {},
   "outputs": [
    {
     "data": {
      "image/png": "[encoded data removed]",
      "text/plain": [
       "<Figure size 1080x360 with 1 Axes>"
      ]
     },
     "metadata": {
      "needs_background": "light"
     },
     "output_type": "display_data"
    }
   ],
   "source": [
    "plt.figure(figsize = (15,5))\n",
    "df_train['Target'].plot(kind='hist',\n",
    "                        bins=25,\n",
    "                        figsize=(15, 5),\n",
    "                        title='Distribution of Target Variable')\n",
    "plt.show()"
   ]
  },
  {
   "cell_type": "markdown",
   "metadata": {},
   "source": [
    "Check the missing data in the train set"
   ]
  },
  {
   "cell_type": "code",
   "execution_count": 10,
   "metadata": {},
   "outputs": [
    {
     "data": {
      "text/html": [
       "<div>\n",
       "<style scoped>\n",
       "    .dataframe tbody tr th:only-of-type {\n",
       "        vertical-align: middle;\n",
       "    }\n",
       "\n",
       "    .dataframe tbody tr th {\n",
       "        vertical-align: top;\n",
       "    }\n",
       "\n",
       "    .dataframe thead th {\n",
       "        text-align: right;\n",
       "    }\n",
       "</style>\n",
       "<table border=\"1\" class=\"dataframe\">\n",
       "  <thead>\n",
       "    <tr style=\"text-align: right;\">\n",
       "      <th></th>\n",
       "      <th>Total</th>\n",
       "      <th>Percent</th>\n",
       "    </tr>\n",
       "  </thead>\n",
       "  <tbody>\n",
       "    <tr>\n",
       "      <th>E</th>\n",
       "      <td>29731</td>\n",
       "      <td>19.820667</td>\n",
       "    </tr>\n",
       "    <tr>\n",
       "      <th>J</th>\n",
       "      <td>3924</td>\n",
       "      <td>2.616000</td>\n",
       "    </tr>\n",
       "    <tr>\n",
       "      <th>I</th>\n",
       "      <td>0</td>\n",
       "      <td>0.000000</td>\n",
       "    </tr>\n",
       "    <tr>\n",
       "      <th>H</th>\n",
       "      <td>0</td>\n",
       "      <td>0.000000</td>\n",
       "    </tr>\n",
       "    <tr>\n",
       "      <th>G</th>\n",
       "      <td>0</td>\n",
       "      <td>0.000000</td>\n",
       "    </tr>\n",
       "    <tr>\n",
       "      <th>F</th>\n",
       "      <td>0</td>\n",
       "      <td>0.000000</td>\n",
       "    </tr>\n",
       "    <tr>\n",
       "      <th>D</th>\n",
       "      <td>0</td>\n",
       "      <td>0.000000</td>\n",
       "    </tr>\n",
       "    <tr>\n",
       "      <th>C</th>\n",
       "      <td>0</td>\n",
       "      <td>0.000000</td>\n",
       "    </tr>\n",
       "    <tr>\n",
       "      <th>B</th>\n",
       "      <td>0</td>\n",
       "      <td>0.000000</td>\n",
       "    </tr>\n",
       "    <tr>\n",
       "      <th>A</th>\n",
       "      <td>0</td>\n",
       "      <td>0.000000</td>\n",
       "    </tr>\n",
       "    <tr>\n",
       "      <th>Target</th>\n",
       "      <td>0</td>\n",
       "      <td>0.000000</td>\n",
       "    </tr>\n",
       "  </tbody>\n",
       "</table>\n",
       "</div>"
      ],
      "text/plain": [
       "        Total    Percent\n",
       "E       29731  19.820667\n",
       "J        3924   2.616000\n",
       "I           0   0.000000\n",
       "H           0   0.000000\n",
       "G           0   0.000000\n",
       "F           0   0.000000\n",
       "D           0   0.000000\n",
       "C           0   0.000000\n",
       "B           0   0.000000\n",
       "A           0   0.000000\n",
       "Target      0   0.000000"
      ]
     },
     "execution_count": 10,
     "metadata": {},
     "output_type": "execute_result"
    }
   ],
   "source": [
    "total = df_train.isnull().sum().sort_values(ascending = False)\n",
    "percent = (df_train.isnull().sum()/df_train.isnull().count()*100).sort_values(ascending = False)\n",
    "missing__train_data  = pd.concat([total, percent], axis=1, keys=['Total', 'Percent'])\n",
    "missing__train_data"
   ]
  },
  {
   "cell_type": "markdown",
   "metadata": {},
   "source": [
    "We can see that the column with the most missing values is E with 29,731 missing, and these make up 19.8% of the data"
   ]
  },
  {
   "cell_type": "code",
   "execution_count": 11,
   "metadata": {},
   "outputs": [
    {
     "data": {
      "text/plain": [
       "int8       7\n",
       "float32    2\n",
       "float16    2\n",
       "dtype: int64"
      ]
     },
     "execution_count": 11,
     "metadata": {},
     "output_type": "execute_result"
    }
   ],
   "source": [
    "df_train.dtypes.value_counts()"
   ]
  },
  {
   "cell_type": "markdown",
   "metadata": {},
   "source": [
    "Now we check for correlation. Correlations do not actually represent \"relevance\" of a feature but they give us an understanding of possible relationships"
   ]
  },
  {
   "cell_type": "code",
   "execution_count": 12,
   "metadata": {},
   "outputs": [
    {
     "name": "stdout",
     "output_type": "stream",
     "text": [
      "Most Positive Correlations:\n",
      " J         0.046048\n",
      "I         0.102261\n",
      "G         0.117175\n",
      "C         0.125587\n",
      "Target    1.000000\n",
      "Name: Target, dtype: float64\n",
      "\n",
      "Most Negative Correlations:\n",
      " B   -0.115386\n",
      "F   -0.029669\n",
      "E   -0.019746\n",
      "D   -0.007602\n",
      "H   -0.007038\n",
      "Name: Target, dtype: float64\n",
      "==================================================\n",
      "ALL CORRELATIONS:\n"
     ]
    },
    {
     "data": {
      "text/html": [
       "<div>\n",
       "<style scoped>\n",
       "    .dataframe tbody tr th:only-of-type {\n",
       "        vertical-align: middle;\n",
       "    }\n",
       "\n",
       "    .dataframe tbody tr th {\n",
       "        vertical-align: top;\n",
       "    }\n",
       "\n",
       "    .dataframe thead th {\n",
       "        text-align: right;\n",
       "    }\n",
       "</style>\n",
       "<table border=\"1\" class=\"dataframe\">\n",
       "  <thead>\n",
       "    <tr style=\"text-align: right;\">\n",
       "      <th></th>\n",
       "      <th>Target</th>\n",
       "      <th>A</th>\n",
       "      <th>B</th>\n",
       "      <th>C</th>\n",
       "      <th>D</th>\n",
       "      <th>E</th>\n",
       "      <th>F</th>\n",
       "      <th>G</th>\n",
       "      <th>H</th>\n",
       "      <th>I</th>\n",
       "      <th>J</th>\n",
       "    </tr>\n",
       "  </thead>\n",
       "  <tbody>\n",
       "    <tr>\n",
       "      <th>Target</th>\n",
       "      <td>1.000000</td>\n",
       "      <td>-0.001801</td>\n",
       "      <td>-0.115386</td>\n",
       "      <td>0.125587</td>\n",
       "      <td>-0.007602</td>\n",
       "      <td>-0.019746</td>\n",
       "      <td>-0.029669</td>\n",
       "      <td>0.117175</td>\n",
       "      <td>-0.007038</td>\n",
       "      <td>0.102261</td>\n",
       "      <td>0.046048</td>\n",
       "    </tr>\n",
       "    <tr>\n",
       "      <th>A</th>\n",
       "      <td>-0.001801</td>\n",
       "      <td>1.000000</td>\n",
       "      <td>-0.005898</td>\n",
       "      <td>-0.001314</td>\n",
       "      <td>0.003961</td>\n",
       "      <td>0.007124</td>\n",
       "      <td>-0.011280</td>\n",
       "      <td>-0.001061</td>\n",
       "      <td>0.006235</td>\n",
       "      <td>-0.001048</td>\n",
       "      <td>0.001558</td>\n",
       "    </tr>\n",
       "    <tr>\n",
       "      <th>B</th>\n",
       "      <td>-0.115386</td>\n",
       "      <td>-0.005898</td>\n",
       "      <td>1.000000</td>\n",
       "      <td>-0.062995</td>\n",
       "      <td>0.024188</td>\n",
       "      <td>0.037717</td>\n",
       "      <td>0.147705</td>\n",
       "      <td>-0.061005</td>\n",
       "      <td>0.033150</td>\n",
       "      <td>-0.057159</td>\n",
       "      <td>-0.213303</td>\n",
       "    </tr>\n",
       "    <tr>\n",
       "      <th>C</th>\n",
       "      <td>0.125587</td>\n",
       "      <td>-0.001314</td>\n",
       "      <td>-0.062995</td>\n",
       "      <td>1.000000</td>\n",
       "      <td>-0.006542</td>\n",
       "      <td>-0.010217</td>\n",
       "      <td>-0.055312</td>\n",
       "      <td>0.983603</td>\n",
       "      <td>-0.030565</td>\n",
       "      <td>0.987005</td>\n",
       "      <td>-0.002680</td>\n",
       "    </tr>\n",
       "    <tr>\n",
       "      <th>D</th>\n",
       "      <td>-0.007602</td>\n",
       "      <td>0.003961</td>\n",
       "      <td>0.024188</td>\n",
       "      <td>-0.006542</td>\n",
       "      <td>1.000000</td>\n",
       "      <td>-0.028712</td>\n",
       "      <td>0.049565</td>\n",
       "      <td>-0.008320</td>\n",
       "      <td>0.120046</td>\n",
       "      <td>-0.007533</td>\n",
       "      <td>-0.040673</td>\n",
       "    </tr>\n",
       "    <tr>\n",
       "      <th>E</th>\n",
       "      <td>-0.019746</td>\n",
       "      <td>0.007124</td>\n",
       "      <td>0.037717</td>\n",
       "      <td>-0.010217</td>\n",
       "      <td>-0.028712</td>\n",
       "      <td>1.000000</td>\n",
       "      <td>0.091455</td>\n",
       "      <td>-0.012743</td>\n",
       "      <td>0.124959</td>\n",
       "      <td>-0.011116</td>\n",
       "      <td>0.062647</td>\n",
       "    </tr>\n",
       "    <tr>\n",
       "      <th>F</th>\n",
       "      <td>-0.029669</td>\n",
       "      <td>-0.011280</td>\n",
       "      <td>0.147705</td>\n",
       "      <td>-0.055312</td>\n",
       "      <td>0.049565</td>\n",
       "      <td>0.091455</td>\n",
       "      <td>1.000000</td>\n",
       "      <td>-0.079984</td>\n",
       "      <td>0.433959</td>\n",
       "      <td>-0.071077</td>\n",
       "      <td>0.065322</td>\n",
       "    </tr>\n",
       "    <tr>\n",
       "      <th>G</th>\n",
       "      <td>0.117175</td>\n",
       "      <td>-0.001061</td>\n",
       "      <td>-0.061005</td>\n",
       "      <td>0.983603</td>\n",
       "      <td>-0.008320</td>\n",
       "      <td>-0.012743</td>\n",
       "      <td>-0.079984</td>\n",
       "      <td>1.000000</td>\n",
       "      <td>-0.045205</td>\n",
       "      <td>0.992796</td>\n",
       "      <td>-0.010176</td>\n",
       "    </tr>\n",
       "    <tr>\n",
       "      <th>H</th>\n",
       "      <td>-0.007038</td>\n",
       "      <td>0.006235</td>\n",
       "      <td>0.033150</td>\n",
       "      <td>-0.030565</td>\n",
       "      <td>0.120046</td>\n",
       "      <td>0.124959</td>\n",
       "      <td>0.433959</td>\n",
       "      <td>-0.045205</td>\n",
       "      <td>1.000000</td>\n",
       "      <td>-0.039722</td>\n",
       "      <td>0.124684</td>\n",
       "    </tr>\n",
       "    <tr>\n",
       "      <th>I</th>\n",
       "      <td>0.102261</td>\n",
       "      <td>-0.001048</td>\n",
       "      <td>-0.057159</td>\n",
       "      <td>0.987005</td>\n",
       "      <td>-0.007533</td>\n",
       "      <td>-0.011116</td>\n",
       "      <td>-0.071077</td>\n",
       "      <td>0.992796</td>\n",
       "      <td>-0.039722</td>\n",
       "      <td>1.000000</td>\n",
       "      <td>-0.010922</td>\n",
       "    </tr>\n",
       "    <tr>\n",
       "      <th>J</th>\n",
       "      <td>0.046048</td>\n",
       "      <td>0.001558</td>\n",
       "      <td>-0.213303</td>\n",
       "      <td>-0.002680</td>\n",
       "      <td>-0.040673</td>\n",
       "      <td>0.062647</td>\n",
       "      <td>0.065322</td>\n",
       "      <td>-0.010176</td>\n",
       "      <td>0.124684</td>\n",
       "      <td>-0.010922</td>\n",
       "      <td>1.000000</td>\n",
       "    </tr>\n",
       "  </tbody>\n",
       "</table>\n",
       "</div>"
      ],
      "text/plain": [
       "          Target         A         B         C         D         E         F  \\\n",
       "Target  1.000000 -0.001801 -0.115386  0.125587 -0.007602 -0.019746 -0.029669   \n",
       "A      -0.001801  1.000000 -0.005898 -0.001314  0.003961  0.007124 -0.011280   \n",
       "B      -0.115386 -0.005898  1.000000 -0.062995  0.024188  0.037717  0.147705   \n",
       "C       0.125587 -0.001314 -0.062995  1.000000 -0.006542 -0.010217 -0.055312   \n",
       "D      -0.007602  0.003961  0.024188 -0.006542  1.000000 -0.028712  0.049565   \n",
       "E      -0.019746  0.007124  0.037717 -0.010217 -0.028712  1.000000  0.091455   \n",
       "F      -0.029669 -0.011280  0.147705 -0.055312  0.049565  0.091455  1.000000   \n",
       "G       0.117175 -0.001061 -0.061005  0.983603 -0.008320 -0.012743 -0.079984   \n",
       "H      -0.007038  0.006235  0.033150 -0.030565  0.120046  0.124959  0.433959   \n",
       "I       0.102261 -0.001048 -0.057159  0.987005 -0.007533 -0.011116 -0.071077   \n",
       "J       0.046048  0.001558 -0.213303 -0.002680 -0.040673  0.062647  0.065322   \n",
       "\n",
       "               G         H         I         J  \n",
       "Target  0.117175 -0.007038  0.102261  0.046048  \n",
       "A      -0.001061  0.006235 -0.001048  0.001558  \n",
       "B      -0.061005  0.033150 -0.057159 -0.213303  \n",
       "C       0.983603 -0.030565  0.987005 -0.002680  \n",
       "D      -0.008320  0.120046 -0.007533 -0.040673  \n",
       "E      -0.012743  0.124959 -0.011116  0.062647  \n",
       "F      -0.079984  0.433959 -0.071077  0.065322  \n",
       "G       1.000000 -0.045205  0.992796 -0.010176  \n",
       "H      -0.045205  1.000000 -0.039722  0.124684  \n",
       "I       0.992796 -0.039722  1.000000 -0.010922  \n",
       "J      -0.010176  0.124684 -0.010922  1.000000  "
      ]
     },
     "execution_count": 12,
     "metadata": {},
     "output_type": "execute_result"
    }
   ],
   "source": [
    "correlations = df_train.corr()\n",
    "correlations_target = correlations['Target'].sort_values()\n",
    "\n",
    "print('Most Positive Correlations:\\n', correlations_target.tail(5))\n",
    "print('\\nMost Negative Correlations:\\n', correlations_target.head(5))\n",
    "print(\"==========\" * 5)\n",
    "print(\"ALL CORRELATIONS:\")\n",
    "correlations"
   ]
  },
  {
   "cell_type": "code",
   "execution_count": 13,
   "metadata": {},
   "outputs": [
    {
     "data": {
      "image/png": "[encoded data removed]",
      "text/plain": [
       "<Figure size 1440x576 with 2 Axes>"
      ]
     },
     "metadata": {
      "needs_background": "light"
     },
     "output_type": "display_data"
    }
   ],
   "source": [
    "plt.figure(figsize = (20, 8))\n",
    "\n",
    "# Heatmap of correlations\n",
    "sns.heatmap(correlations, cmap=plt.cm.RdYlBu_r, vmin=-0.25, annot=True, vmax=0.6)\n",
    "plt.title('Correlation Heatmap');"
   ]
  },
  {
   "cell_type": "code",
   "execution_count": 14,
   "metadata": {},
   "outputs": [],
   "source": [
    "def plot_dist_col(column):\n",
    "    \"\"\"\n",
    "    Plot dist curves for train and test set for a given column name\n",
    "    \"\"\"\n",
    "    fig, ax = plt.subplots(figsize=(10,6))\n",
    "    sns.distplot(df_train[column].dropna(), color='green', ax=ax).set_title(f\"dist plot for {column}\", fontsize=16)\n",
    "    sns.distplot(df_test[column].dropna(), color='purple', ax=ax).set_title(f\"dist plot for {column}\", fontsize=16)\n",
    "    plt.xlabel(column, fontsize=15)\n",
    "    plt.legend(['train', 'test'])\n",
    "    plt.show()"
   ]
  },
  {
   "cell_type": "code",
   "execution_count": 15,
   "metadata": {},
   "outputs": [
    {
     "data": {
      "image/png": "[encoded data removed]",
      "text/plain": [
       "<Figure size 720x432 with 1 Axes>"
      ]
     },
     "metadata": {
      "needs_background": "light"
     },
     "output_type": "display_data"
    }
   ],
   "source": [
    "plot_dist_col('A')"
   ]
  },
  {
   "cell_type": "code",
   "execution_count": 16,
   "metadata": {},
   "outputs": [
    {
     "data": {
      "image/png": "[encoded data removed]",
      "text/plain": [
       "<Figure size 720x432 with 1 Axes>"
      ]
     },
     "metadata": {
      "needs_background": "light"
     },
     "output_type": "display_data"
    }
   ],
   "source": [
    "plot_dist_col('B')"
   ]
  },
  {
   "cell_type": "code",
   "execution_count": 17,
   "metadata": {},
   "outputs": [
    {
     "data": {
      "image/png": "[encoded data removed]",
      "text/plain": [
       "<Figure size 720x432 with 1 Axes>"
      ]
     },
     "metadata": {
      "needs_background": "light"
     },
     "output_type": "display_data"
    }
   ],
   "source": [
    "plot_dist_col('C')"
   ]
  },
  {
   "cell_type": "code",
   "execution_count": 18,
   "metadata": {},
   "outputs": [
    {
     "data": {
      "image/png": "[encoded data removed]",
      "text/plain": [
       "<Figure size 720x432 with 1 Axes>"
      ]
     },
     "metadata": {
      "needs_background": "light"
     },
     "output_type": "display_data"
    }
   ],
   "source": [
    "plot_dist_col('D')"
   ]
  },
  {
   "cell_type": "code",
   "execution_count": 19,
   "metadata": {},
   "outputs": [
    {
     "data": {
      "image/png": "[encoded data removed]",
      "text/plain": [
       "<Figure size 720x432 with 1 Axes>"
      ]
     },
     "metadata": {
      "needs_background": "light"
     },
     "output_type": "display_data"
    }
   ],
   "source": [
    "plot_dist_col('E')"
   ]
  },
  {
   "cell_type": "code",
   "execution_count": 20,
   "metadata": {},
   "outputs": [
    {
     "data": {
      "image/png": "[encoded data removed]",
      "text/plain": [
       "<Figure size 720x432 with 1 Axes>"
      ]
     },
     "metadata": {
      "needs_background": "light"
     },
     "output_type": "display_data"
    }
   ],
   "source": [
    "plot_dist_col('F')"
   ]
  },
  {
   "cell_type": "code",
   "execution_count": 21,
   "metadata": {},
   "outputs": [
    {
     "data": {
      "image/png": "[encoded data removed]",
      "text/plain": [
       "<Figure size 720x432 with 1 Axes>"
      ]
     },
     "metadata": {
      "needs_background": "light"
     },
     "output_type": "display_data"
    }
   ],
   "source": [
    "plot_dist_col('G')"
   ]
  },
  {
   "cell_type": "code",
   "execution_count": 22,
   "metadata": {},
   "outputs": [
    {
     "data": {
      "image/png": "[encoded data removed]",
      "text/plain": [
       "<Figure size 720x432 with 1 Axes>"
      ]
     },
     "metadata": {
      "needs_background": "light"
     },
     "output_type": "display_data"
    }
   ],
   "source": [
    "plot_dist_col('H')"
   ]
  },
  {
   "cell_type": "code",
   "execution_count": 23,
   "metadata": {},
   "outputs": [
    {
     "data": {
      "image/png": "[encoded data removed]",
      "text/plain": [
       "<Figure size 720x432 with 1 Axes>"
      ]
     },
     "metadata": {
      "needs_background": "light"
     },
     "output_type": "display_data"
    }
   ],
   "source": [
    "plot_dist_col('I')"
   ]
  },
  {
   "cell_type": "code",
   "execution_count": 24,
   "metadata": {},
   "outputs": [
    {
     "data": {
      "image/png": "[encoded data removed]",
      "text/plain": [
       "<Figure size 720x432 with 1 Axes>"
      ]
     },
     "metadata": {
      "needs_background": "light"
     },
     "output_type": "display_data"
    }
   ],
   "source": [
    "plot_dist_col('J')"
   ]
  },
  {
   "cell_type": "markdown",
   "metadata": {},
   "source": [
    "We can see from the distributions above that columns A and E have different distributions, B, D, F, H, J have relatable distributions whereas C, G, I have matching distributions. This will be further confirmed below:"
   ]
  },
  {
   "cell_type": "code",
   "execution_count": 25,
   "metadata": {},
   "outputs": [
    {
     "name": "stdout",
     "output_type": "stream",
     "text": [
      "Statistics for A\n",
      "       min      max  std\n",
      "train  0.0  50720.0  NaN\n",
      "test   0.0  21824.0  NaN\n",
      "done\n",
      "==========================================================================================\n",
      "Statistics for B\n",
      "       min  max        std\n",
      "train    0  109  14.771866\n",
      "test    21  104  14.779756\n",
      "done\n",
      "==========================================================================================\n",
      "Statistics for C\n",
      "       min  max       std\n",
      "train    0   98  4.192781\n",
      "test     0   98  4.538487\n",
      "done\n",
      "==========================================================================================\n",
      "Statistics for D\n",
      "       min       max          std\n",
      "train  0.0  329664.0  2038.782471\n",
      "test   0.0  268326.0  1631.990845\n",
      "done\n",
      "==========================================================================================\n",
      "Statistics for E\n",
      "       min        max           std\n",
      "train  0.0  3008750.0  14383.863281\n",
      "test   0.0  7727000.0  36506.277344\n",
      "done\n",
      "==========================================================================================\n",
      "Statistics for F\n",
      "       min  max       std\n",
      "train    0   58  5.145951\n",
      "test     0   85  5.144100\n",
      "done\n",
      "==========================================================================================\n",
      "Statistics for G\n",
      "       min  max       std\n",
      "train    0   98  4.169304\n",
      "test     0   98  4.515859\n",
      "done\n",
      "==========================================================================================\n",
      "Statistics for H\n",
      "       min  max       std\n",
      "train    0   54  1.129771\n",
      "test     0   37  1.110253\n",
      "done\n",
      "==========================================================================================\n",
      "Statistics for I\n",
      "       min  max       std\n",
      "train    0   98  4.155179\n",
      "test     0   98  4.503578\n",
      "done\n",
      "==========================================================================================\n",
      "Statistics for J\n",
      "       min   max  std\n",
      "train  0.0  20.0  0.0\n",
      "test   0.0  43.0  0.0\n",
      "done\n",
      "==========================================================================================\n"
     ]
    }
   ],
   "source": [
    "def confirm_distributions(col):\n",
    "    col_train_min = df_train[col].min()\n",
    "    col_train_max = df_train[col].max()\n",
    "    col_train_std = df_train[col].std()\n",
    "    col_test_min = df_test[col].min()\n",
    "    col_test_max = df_test[col].max()\n",
    "    col_test_std = df_test[col].std()\n",
    "    col_min = [col_train_min, col_test_min]\n",
    "    col_max = [col_train_max, col_test_max]\n",
    "    col_std = [col_train_std, col_test_std]\n",
    "    df = pd.DataFrame({'min': col_min, 'max': col_max, 'std':col_std})\n",
    "    df = df.rename(index={0: 'train', 1:'test'})\n",
    "    print(df)\n",
    "    return \"done\"\n",
    "\n",
    "\n",
    "for i in ['A', 'B', 'C', 'D', 'E', 'F', 'G', 'H', 'I', 'J']:\n",
    "    print(f\"Statistics for {i}\")\n",
    "    print(confirm_distributions(i))\n",
    "    print(\"==================\" * 5)"
   ]
  },
  {
   "cell_type": "markdown",
   "metadata": {},
   "source": [
    "Notice how the statistics above confirm our images when you compare the min, max and std of the distributions in the train and test set per column\n",
    "\n",
    "Due to knowing what each feature represented, more EDA was carried out on various columns. For instance there were outliers present in B. It simply was not possible for B to have values less than 18, deciding to set a reasonable upper limit of 80. The goal to group people that possess values of B to know the percentage of those that are retained"
   ]
  },
  {
   "cell_type": "code",
   "execution_count": 26,
   "metadata": {},
   "outputs": [
    {
     "name": "stdout",
     "output_type": "stream",
     "text": [
      "for range 18 to 30, 0.69% are usually retained\n",
      "for range 30 to 40, 1.56% are usually retained\n",
      "for range 40 to 50, 1.92% are usually retained\n",
      "for range 50 to 60, 1.52% are usually retained\n",
      "for range 60 to 70, 0.70% are usually retained\n",
      "for range 70 to 80, 0.22% are usually retained\n",
      "for range 80 to 90, 0.07% are usually retained\n",
      "for range 90 to 100, 0.01% are usually retained\n",
      "for range 100 to 110, 0.00% are usually retained\n"
     ]
    }
   ],
   "source": [
    "\"\"\"\n",
    "The row containing a value of B less than 18 in the training set\n",
    "is only 1, and it does not exist in the test set so it will be dropped\n",
    "\"\"\"\n",
    "df_train = df_train.loc[~df_train['B'] < 18]\n",
    "\n",
    "B_interval = [[18, 30],\n",
    "              [30, 40],\n",
    "              [40, 50],\n",
    "              [50, 60],\n",
    "              [60, 70],\n",
    "              [70, 80],\n",
    "              [80, 90],\n",
    "              [90, 100],\n",
    "              [100, 110]]\n",
    "\n",
    "total_num = len(df_train)\n",
    "for i in B_interval:\n",
    "    data = df_train.query(f\"B>={i[0]} and B<{i[1]}\")\n",
    "    retained = data['Target'].value_counts().values[1]\n",
    "    perc = retained * 100 / total_num\n",
    "    print(f\"for range {i[0]} to {i[1]}, {perc:.2f}% are usually retained\")"
   ]
  },
  {
   "cell_type": "markdown",
   "metadata": {},
   "source": [
    "### Feature Engineering\n",
    "\n",
    "We would start off by taking care of missing data. Missing data only occur in the columns E and J in both train and test set, they would be filled by numbers not present within their distributions. This would help xgboost treat \"missingness\" as it's own feature"
   ]
  },
  {
   "cell_type": "code",
   "execution_count": 27,
   "metadata": {},
   "outputs": [],
   "source": [
    "df_train['E'] = df_train['E'].fillna(-999).astype(np.int16)\n",
    "df_test['E'] = df_test['E'].fillna(-999).astype(np.int16)\n",
    "\n",
    "df_train['J'] = df_train['J'].fillna(-999).astype(np.int16)\n",
    "df_test['J'] = df_test['J'].fillna(-999).astype(np.int16)"
   ]
  },
  {
   "cell_type": "code",
   "execution_count": 28,
   "metadata": {},
   "outputs": [],
   "source": [
    "\"\"\"\n",
    "Groupings for B\n",
    "\"\"\"\n",
    "def group_col(x):\n",
    "    if ((x>=18 and x<30) or (x>=60 and x<70)):\n",
    "        return \"one\"\n",
    "    elif ((x>=30 and x<40) or (x>=40 and x<50) or (x>=50 and x<60)):\n",
    "        return \"two\"\n",
    "    else:\n",
    "        return \"three\"\n",
    "        \n",
    "df_train['B_group'] = df_train['B'].apply(group_col)\n",
    "df_test['B_group'] = df_test['B'].apply(group_col)"
   ]
  },
  {
   "cell_type": "code",
   "execution_count": 60,
   "metadata": {},
   "outputs": [],
   "source": [
    "## this is where i am, map the stats gotten from the training set into the test\n",
    "df_group =  df_train.groupby('B_group')['B']\n",
    "B_group_min = df_group.min().astype(np.float16).to_dict()\n",
    "B_group_mean = df_group.mean().astype(np.float16).to_dict()\n",
    "B_group_median = df_group.median().astype(np.float16).to_dict()\n",
    "B_group_std = df_group.std().astype(np.float16).to_dict()\n",
    "B_group_max = df_group.max().astype(np.float16).to_dict()\n",
    "B_group_count = df_group.count().to_dict()\n",
    "\n",
    "\n",
    "def add_stat_feats(df):\n",
    "    df['group_min'] = df['B_group'].map(B_group_min)\n",
    "    df['group_mean'] = df['B_group'].map(B_group_mean)\n",
    "    df['group_median'] = df['B_group'].map(B_group_median)\n",
    "    df['group_std'] = df['B_group'].map(B_group_std)\n",
    "    df['group_max'] = df['B_group'].map(B_group_max)\n",
    "    df['group_count'] = df['B_group'].map(B_group_count)\n",
    "    return df\n",
    "    \n",
    "df_train = add_stat_feats(df_train)\n",
    "df_test = add_stat_feats(df_test)"
   ]
  },
  {
   "cell_type": "code",
   "execution_count": 62,
   "metadata": {},
   "outputs": [
    {
     "data": {
      "text/html": [
       "<div>\n",
       "<style scoped>\n",
       "    .dataframe tbody tr th:only-of-type {\n",
       "        vertical-align: middle;\n",
       "    }\n",
       "\n",
       "    .dataframe tbody tr th {\n",
       "        vertical-align: top;\n",
       "    }\n",
       "\n",
       "    .dataframe thead th {\n",
       "        text-align: right;\n",
       "    }\n",
       "</style>\n",
       "<table border=\"1\" class=\"dataframe\">\n",
       "  <thead>\n",
       "    <tr style=\"text-align: right;\">\n",
       "      <th></th>\n",
       "      <th>Target</th>\n",
       "      <th>A</th>\n",
       "      <th>B</th>\n",
       "      <th>C</th>\n",
       "      <th>D</th>\n",
       "      <th>E</th>\n",
       "      <th>F</th>\n",
       "      <th>G</th>\n",
       "      <th>H</th>\n",
       "      <th>I</th>\n",
       "      <th>J</th>\n",
       "      <th>B_group</th>\n",
       "      <th>group_min</th>\n",
       "      <th>group_mean</th>\n",
       "      <th>group_median</th>\n",
       "      <th>group_std</th>\n",
       "      <th>group_max</th>\n",
       "      <th>group_count</th>\n",
       "    </tr>\n",
       "  </thead>\n",
       "  <tbody>\n",
       "    <tr>\n",
       "      <th>91523</th>\n",
       "      <td>NaN</td>\n",
       "      <td>0.016434</td>\n",
       "      <td>40</td>\n",
       "      <td>0</td>\n",
       "      <td>0.231083</td>\n",
       "      <td>12250</td>\n",
       "      <td>6</td>\n",
       "      <td>0</td>\n",
       "      <td>2</td>\n",
       "      <td>0</td>\n",
       "      <td>2</td>\n",
       "      <td>two</td>\n",
       "      <td>30.0</td>\n",
       "      <td>45.93750</td>\n",
       "      <td>47.0</td>\n",
       "      <td>8.164062</td>\n",
       "      <td>59.0</td>\n",
       "      <td>92861</td>\n",
       "    </tr>\n",
       "    <tr>\n",
       "      <th>96985</th>\n",
       "      <td>NaN</td>\n",
       "      <td>0.024841</td>\n",
       "      <td>85</td>\n",
       "      <td>0</td>\n",
       "      <td>0.015330</td>\n",
       "      <td>4500</td>\n",
       "      <td>4</td>\n",
       "      <td>0</td>\n",
       "      <td>1</td>\n",
       "      <td>0</td>\n",
       "      <td>0</td>\n",
       "      <td>three</td>\n",
       "      <td>0.0</td>\n",
       "      <td>77.12500</td>\n",
       "      <td>76.0</td>\n",
       "      <td>5.839844</td>\n",
       "      <td>109.0</td>\n",
       "      <td>19414</td>\n",
       "    </tr>\n",
       "    <tr>\n",
       "      <th>75475</th>\n",
       "      <td>NaN</td>\n",
       "      <td>0.148193</td>\n",
       "      <td>57</td>\n",
       "      <td>0</td>\n",
       "      <td>0.203067</td>\n",
       "      <td>3781</td>\n",
       "      <td>11</td>\n",
       "      <td>0</td>\n",
       "      <td>1</td>\n",
       "      <td>0</td>\n",
       "      <td>1</td>\n",
       "      <td>two</td>\n",
       "      <td>30.0</td>\n",
       "      <td>45.93750</td>\n",
       "      <td>47.0</td>\n",
       "      <td>8.164062</td>\n",
       "      <td>59.0</td>\n",
       "      <td>92861</td>\n",
       "    </tr>\n",
       "    <tr>\n",
       "      <th>98531</th>\n",
       "      <td>NaN</td>\n",
       "      <td>0.240967</td>\n",
       "      <td>66</td>\n",
       "      <td>0</td>\n",
       "      <td>0.333909</td>\n",
       "      <td>1736</td>\n",
       "      <td>5</td>\n",
       "      <td>0</td>\n",
       "      <td>0</td>\n",
       "      <td>0</td>\n",
       "      <td>0</td>\n",
       "      <td>one</td>\n",
       "      <td>21.0</td>\n",
       "      <td>55.15625</td>\n",
       "      <td>62.0</td>\n",
       "      <td>16.171875</td>\n",
       "      <td>69.0</td>\n",
       "      <td>37725</td>\n",
       "    </tr>\n",
       "    <tr>\n",
       "      <th>74187</th>\n",
       "      <td>NaN</td>\n",
       "      <td>0.026413</td>\n",
       "      <td>41</td>\n",
       "      <td>0</td>\n",
       "      <td>94.000000</td>\n",
       "      <td>-999</td>\n",
       "      <td>5</td>\n",
       "      <td>0</td>\n",
       "      <td>0</td>\n",
       "      <td>0</td>\n",
       "      <td>0</td>\n",
       "      <td>two</td>\n",
       "      <td>30.0</td>\n",
       "      <td>45.93750</td>\n",
       "      <td>47.0</td>\n",
       "      <td>8.164062</td>\n",
       "      <td>59.0</td>\n",
       "      <td>92861</td>\n",
       "    </tr>\n",
       "    <tr>\n",
       "      <th>39726</th>\n",
       "      <td>NaN</td>\n",
       "      <td>0.014664</td>\n",
       "      <td>55</td>\n",
       "      <td>0</td>\n",
       "      <td>0.000640</td>\n",
       "      <td>9375</td>\n",
       "      <td>3</td>\n",
       "      <td>0</td>\n",
       "      <td>0</td>\n",
       "      <td>0</td>\n",
       "      <td>0</td>\n",
       "      <td>two</td>\n",
       "      <td>30.0</td>\n",
       "      <td>45.93750</td>\n",
       "      <td>47.0</td>\n",
       "      <td>8.164062</td>\n",
       "      <td>59.0</td>\n",
       "      <td>92861</td>\n",
       "    </tr>\n",
       "    <tr>\n",
       "      <th>10502</th>\n",
       "      <td>NaN</td>\n",
       "      <td>0.000000</td>\n",
       "      <td>30</td>\n",
       "      <td>0</td>\n",
       "      <td>0.000000</td>\n",
       "      <td>3000</td>\n",
       "      <td>2</td>\n",
       "      <td>0</td>\n",
       "      <td>0</td>\n",
       "      <td>0</td>\n",
       "      <td>3</td>\n",
       "      <td>two</td>\n",
       "      <td>30.0</td>\n",
       "      <td>45.93750</td>\n",
       "      <td>47.0</td>\n",
       "      <td>8.164062</td>\n",
       "      <td>59.0</td>\n",
       "      <td>92861</td>\n",
       "    </tr>\n",
       "    <tr>\n",
       "      <th>68053</th>\n",
       "      <td>NaN</td>\n",
       "      <td>0.149170</td>\n",
       "      <td>26</td>\n",
       "      <td>1</td>\n",
       "      <td>0.110297</td>\n",
       "      <td>3000</td>\n",
       "      <td>4</td>\n",
       "      <td>0</td>\n",
       "      <td>0</td>\n",
       "      <td>0</td>\n",
       "      <td>0</td>\n",
       "      <td>one</td>\n",
       "      <td>21.0</td>\n",
       "      <td>55.15625</td>\n",
       "      <td>62.0</td>\n",
       "      <td>16.171875</td>\n",
       "      <td>69.0</td>\n",
       "      <td>37725</td>\n",
       "    </tr>\n",
       "    <tr>\n",
       "      <th>94390</th>\n",
       "      <td>NaN</td>\n",
       "      <td>0.012611</td>\n",
       "      <td>50</td>\n",
       "      <td>0</td>\n",
       "      <td>2440.000000</td>\n",
       "      <td>-999</td>\n",
       "      <td>4</td>\n",
       "      <td>0</td>\n",
       "      <td>2</td>\n",
       "      <td>0</td>\n",
       "      <td>0</td>\n",
       "      <td>two</td>\n",
       "      <td>30.0</td>\n",
       "      <td>45.93750</td>\n",
       "      <td>47.0</td>\n",
       "      <td>8.164062</td>\n",
       "      <td>59.0</td>\n",
       "      <td>92861</td>\n",
       "    </tr>\n",
       "    <tr>\n",
       "      <th>57471</th>\n",
       "      <td>NaN</td>\n",
       "      <td>0.009331</td>\n",
       "      <td>57</td>\n",
       "      <td>0</td>\n",
       "      <td>0.331274</td>\n",
       "      <td>11168</td>\n",
       "      <td>8</td>\n",
       "      <td>0</td>\n",
       "      <td>2</td>\n",
       "      <td>0</td>\n",
       "      <td>1</td>\n",
       "      <td>two</td>\n",
       "      <td>30.0</td>\n",
       "      <td>45.93750</td>\n",
       "      <td>47.0</td>\n",
       "      <td>8.164062</td>\n",
       "      <td>59.0</td>\n",
       "      <td>92861</td>\n",
       "    </tr>\n",
       "    <tr>\n",
       "      <th>46757</th>\n",
       "      <td>NaN</td>\n",
       "      <td>0.099243</td>\n",
       "      <td>84</td>\n",
       "      <td>0</td>\n",
       "      <td>0.428306</td>\n",
       "      <td>7001</td>\n",
       "      <td>13</td>\n",
       "      <td>0</td>\n",
       "      <td>2</td>\n",
       "      <td>0</td>\n",
       "      <td>1</td>\n",
       "      <td>three</td>\n",
       "      <td>0.0</td>\n",
       "      <td>77.12500</td>\n",
       "      <td>76.0</td>\n",
       "      <td>5.839844</td>\n",
       "      <td>109.0</td>\n",
       "      <td>19414</td>\n",
       "    </tr>\n",
       "    <tr>\n",
       "      <th>35090</th>\n",
       "      <td>NaN</td>\n",
       "      <td>0.137451</td>\n",
       "      <td>48</td>\n",
       "      <td>0</td>\n",
       "      <td>0.353141</td>\n",
       "      <td>5603</td>\n",
       "      <td>6</td>\n",
       "      <td>0</td>\n",
       "      <td>2</td>\n",
       "      <td>0</td>\n",
       "      <td>1</td>\n",
       "      <td>two</td>\n",
       "      <td>30.0</td>\n",
       "      <td>45.93750</td>\n",
       "      <td>47.0</td>\n",
       "      <td>8.164062</td>\n",
       "      <td>59.0</td>\n",
       "      <td>92861</td>\n",
       "    </tr>\n",
       "    <tr>\n",
       "      <th>38626</th>\n",
       "      <td>NaN</td>\n",
       "      <td>0.884766</td>\n",
       "      <td>23</td>\n",
       "      <td>0</td>\n",
       "      <td>0.047503</td>\n",
       "      <td>820</td>\n",
       "      <td>3</td>\n",
       "      <td>0</td>\n",
       "      <td>0</td>\n",
       "      <td>0</td>\n",
       "      <td>0</td>\n",
       "      <td>one</td>\n",
       "      <td>21.0</td>\n",
       "      <td>55.15625</td>\n",
       "      <td>62.0</td>\n",
       "      <td>16.171875</td>\n",
       "      <td>69.0</td>\n",
       "      <td>37725</td>\n",
       "    </tr>\n",
       "    <tr>\n",
       "      <th>48548</th>\n",
       "      <td>NaN</td>\n",
       "      <td>0.000000</td>\n",
       "      <td>40</td>\n",
       "      <td>1</td>\n",
       "      <td>4574.000000</td>\n",
       "      <td>-999</td>\n",
       "      <td>6</td>\n",
       "      <td>0</td>\n",
       "      <td>2</td>\n",
       "      <td>0</td>\n",
       "      <td>-999</td>\n",
       "      <td>two</td>\n",
       "      <td>30.0</td>\n",
       "      <td>45.93750</td>\n",
       "      <td>47.0</td>\n",
       "      <td>8.164062</td>\n",
       "      <td>59.0</td>\n",
       "      <td>92861</td>\n",
       "    </tr>\n",
       "    <tr>\n",
       "      <th>92956</th>\n",
       "      <td>NaN</td>\n",
       "      <td>0.891113</td>\n",
       "      <td>47</td>\n",
       "      <td>2</td>\n",
       "      <td>0.819432</td>\n",
       "      <td>3416</td>\n",
       "      <td>11</td>\n",
       "      <td>0</td>\n",
       "      <td>1</td>\n",
       "      <td>1</td>\n",
       "      <td>2</td>\n",
       "      <td>two</td>\n",
       "      <td>30.0</td>\n",
       "      <td>45.93750</td>\n",
       "      <td>47.0</td>\n",
       "      <td>8.164062</td>\n",
       "      <td>59.0</td>\n",
       "      <td>92861</td>\n",
       "    </tr>\n",
       "  </tbody>\n",
       "</table>\n",
       "</div>"
      ],
      "text/plain": [
       "       Target         A   B  C            D      E   F  G  H  I    J B_group  \\\n",
       "91523     NaN  0.016434  40  0     0.231083  12250   6  0  2  0    2     two   \n",
       "96985     NaN  0.024841  85  0     0.015330   4500   4  0  1  0    0   three   \n",
       "75475     NaN  0.148193  57  0     0.203067   3781  11  0  1  0    1     two   \n",
       "98531     NaN  0.240967  66  0     0.333909   1736   5  0  0  0    0     one   \n",
       "74187     NaN  0.026413  41  0    94.000000   -999   5  0  0  0    0     two   \n",
       "39726     NaN  0.014664  55  0     0.000640   9375   3  0  0  0    0     two   \n",
       "10502     NaN  0.000000  30  0     0.000000   3000   2  0  0  0    3     two   \n",
       "68053     NaN  0.149170  26  1     0.110297   3000   4  0  0  0    0     one   \n",
       "94390     NaN  0.012611  50  0  2440.000000   -999   4  0  2  0    0     two   \n",
       "57471     NaN  0.009331  57  0     0.331274  11168   8  0  2  0    1     two   \n",
       "46757     NaN  0.099243  84  0     0.428306   7001  13  0  2  0    1   three   \n",
       "35090     NaN  0.137451  48  0     0.353141   5603   6  0  2  0    1     two   \n",
       "38626     NaN  0.884766  23  0     0.047503    820   3  0  0  0    0     one   \n",
       "48548     NaN  0.000000  40  1  4574.000000   -999   6  0  2  0 -999     two   \n",
       "92956     NaN  0.891113  47  2     0.819432   3416  11  0  1  1    2     two   \n",
       "\n",
       "       group_min  group_mean  group_median  group_std  group_max  group_count  \n",
       "91523       30.0    45.93750          47.0   8.164062       59.0        92861  \n",
       "96985        0.0    77.12500          76.0   5.839844      109.0        19414  \n",
       "75475       30.0    45.93750          47.0   8.164062       59.0        92861  \n",
       "98531       21.0    55.15625          62.0  16.171875       69.0        37725  \n",
       "74187       30.0    45.93750          47.0   8.164062       59.0        92861  \n",
       "39726       30.0    45.93750          47.0   8.164062       59.0        92861  \n",
       "10502       30.0    45.93750          47.0   8.164062       59.0        92861  \n",
       "68053       21.0    55.15625          62.0  16.171875       69.0        37725  \n",
       "94390       30.0    45.93750          47.0   8.164062       59.0        92861  \n",
       "57471       30.0    45.93750          47.0   8.164062       59.0        92861  \n",
       "46757        0.0    77.12500          76.0   5.839844      109.0        19414  \n",
       "35090       30.0    45.93750          47.0   8.164062       59.0        92861  \n",
       "38626       21.0    55.15625          62.0  16.171875       69.0        37725  \n",
       "48548       30.0    45.93750          47.0   8.164062       59.0        92861  \n",
       "92956       30.0    45.93750          47.0   8.164062       59.0        92861  "
      ]
     },
     "execution_count": 62,
     "metadata": {},
     "output_type": "execute_result"
    }
   ],
   "source": [
    "df_test.sample(15)"
   ]
  },
  {
   "cell_type": "code",
   "execution_count": 63,
   "metadata": {},
   "outputs": [],
   "source": [
    "df_train = df_train.drop(['B_group'], axis='columns')\n",
    "df_test = df_test.drop(['B_group'], axis='columns')"
   ]
  },
  {
   "cell_type": "code",
   "execution_count": 69,
   "metadata": {},
   "outputs": [],
   "source": [
    "# target = df_train['Target'].copy()\n",
    "# df_train = df_train.drop('Target', axis='columns')"
   ]
  },
  {
   "cell_type": "code",
   "execution_count": 70,
   "metadata": {
    "scrolled": true
   },
   "outputs": [
    {
     "name": "stdout",
     "output_type": "stream",
     "text": [
      "Starting predictions round\n",
      "[11:53:53] WARNING: src/objective/regression_obj.cu:152: reg:linear is now deprecated in favor of reg:squarederror.\n"
     ]
    },
    {
     "ename": "KeyboardInterrupt",
     "evalue": "",
     "output_type": "error",
     "traceback": [
      "\u001b[0;31m---------------------------------------------------------------------------\u001b[0m",
      "\u001b[0;31mKeyboardInterrupt\u001b[0m                         Traceback (most recent call last)",
      "\u001b[0;32m<ipython-input-70-ad714c2166a1>\u001b[0m in \u001b[0;36m<module>\u001b[0;34m\u001b[0m\n\u001b[1;32m     14\u001b[0m                 )\n\u001b[1;32m     15\u001b[0m     \u001b[0mprint\u001b[0m\u001b[0;34m(\u001b[0m\u001b[0;34m\"Starting predictions round\"\u001b[0m\u001b[0;34m)\u001b[0m\u001b[0;34m\u001b[0m\u001b[0;34m\u001b[0m\u001b[0m\n\u001b[0;32m---> 16\u001b[0;31m     \u001b[0mxgb_model\u001b[0m\u001b[0;34m.\u001b[0m\u001b[0mfit\u001b[0m\u001b[0;34m(\u001b[0m\u001b[0mX_train\u001b[0m\u001b[0;34m,\u001b[0m \u001b[0my_train\u001b[0m\u001b[0;34m,\u001b[0m \u001b[0mverbose\u001b[0m\u001b[0;34m=\u001b[0m\u001b[0;32mTrue\u001b[0m\u001b[0;34m)\u001b[0m\u001b[0;34m\u001b[0m\u001b[0;34m\u001b[0m\u001b[0m\n\u001b[0m",
      "\u001b[0;32m~/anaconda3/lib/python3.7/site-packages/xgboost/sklearn.py\u001b[0m in \u001b[0;36mfit\u001b[0;34m(self, X, y, sample_weight, eval_set, eval_metric, early_stopping_rounds, verbose, xgb_model, sample_weight_eval_set, callbacks)\u001b[0m\n\u001b[1;32m    394\u001b[0m                               \u001b[0mevals_result\u001b[0m\u001b[0;34m=\u001b[0m\u001b[0mevals_result\u001b[0m\u001b[0;34m,\u001b[0m \u001b[0mobj\u001b[0m\u001b[0;34m=\u001b[0m\u001b[0mobj\u001b[0m\u001b[0;34m,\u001b[0m \u001b[0mfeval\u001b[0m\u001b[0;34m=\u001b[0m\u001b[0mfeval\u001b[0m\u001b[0;34m,\u001b[0m\u001b[0;34m\u001b[0m\u001b[0;34m\u001b[0m\u001b[0m\n\u001b[1;32m    395\u001b[0m                               \u001b[0mverbose_eval\u001b[0m\u001b[0;34m=\u001b[0m\u001b[0mverbose\u001b[0m\u001b[0;34m,\u001b[0m \u001b[0mxgb_model\u001b[0m\u001b[0;34m=\u001b[0m\u001b[0mxgb_model\u001b[0m\u001b[0;34m,\u001b[0m\u001b[0;34m\u001b[0m\u001b[0;34m\u001b[0m\u001b[0m\n\u001b[0;32m--> 396\u001b[0;31m                               callbacks=callbacks)\n\u001b[0m\u001b[1;32m    397\u001b[0m \u001b[0;34m\u001b[0m\u001b[0m\n\u001b[1;32m    398\u001b[0m         \u001b[0;32mif\u001b[0m \u001b[0mevals_result\u001b[0m\u001b[0;34m:\u001b[0m\u001b[0;34m\u001b[0m\u001b[0;34m\u001b[0m\u001b[0m\n",
      "\u001b[0;32m~/anaconda3/lib/python3.7/site-packages/xgboost/training.py\u001b[0m in \u001b[0;36mtrain\u001b[0;34m(params, dtrain, num_boost_round, evals, obj, feval, maximize, early_stopping_rounds, evals_result, verbose_eval, xgb_model, callbacks, learning_rates)\u001b[0m\n\u001b[1;32m    214\u001b[0m                            \u001b[0mevals\u001b[0m\u001b[0;34m=\u001b[0m\u001b[0mevals\u001b[0m\u001b[0;34m,\u001b[0m\u001b[0;34m\u001b[0m\u001b[0;34m\u001b[0m\u001b[0m\n\u001b[1;32m    215\u001b[0m                            \u001b[0mobj\u001b[0m\u001b[0;34m=\u001b[0m\u001b[0mobj\u001b[0m\u001b[0;34m,\u001b[0m \u001b[0mfeval\u001b[0m\u001b[0;34m=\u001b[0m\u001b[0mfeval\u001b[0m\u001b[0;34m,\u001b[0m\u001b[0;34m\u001b[0m\u001b[0;34m\u001b[0m\u001b[0m\n\u001b[0;32m--> 216\u001b[0;31m                            xgb_model=xgb_model, callbacks=callbacks)\n\u001b[0m\u001b[1;32m    217\u001b[0m \u001b[0;34m\u001b[0m\u001b[0m\n\u001b[1;32m    218\u001b[0m \u001b[0;34m\u001b[0m\u001b[0m\n",
      "\u001b[0;32m~/anaconda3/lib/python3.7/site-packages/xgboost/training.py\u001b[0m in \u001b[0;36m_train_internal\u001b[0;34m(params, dtrain, num_boost_round, evals, obj, feval, xgb_model, callbacks)\u001b[0m\n\u001b[1;32m     72\u001b[0m         \u001b[0;31m# Skip the first update if it is a recovery step.\u001b[0m\u001b[0;34m\u001b[0m\u001b[0;34m\u001b[0m\u001b[0;34m\u001b[0m\u001b[0m\n\u001b[1;32m     73\u001b[0m         \u001b[0;32mif\u001b[0m \u001b[0mversion\u001b[0m \u001b[0;34m%\u001b[0m \u001b[0;36m2\u001b[0m \u001b[0;34m==\u001b[0m \u001b[0;36m0\u001b[0m\u001b[0;34m:\u001b[0m\u001b[0;34m\u001b[0m\u001b[0;34m\u001b[0m\u001b[0m\n\u001b[0;32m---> 74\u001b[0;31m             \u001b[0mbst\u001b[0m\u001b[0;34m.\u001b[0m\u001b[0mupdate\u001b[0m\u001b[0;34m(\u001b[0m\u001b[0mdtrain\u001b[0m\u001b[0;34m,\u001b[0m \u001b[0mi\u001b[0m\u001b[0;34m,\u001b[0m \u001b[0mobj\u001b[0m\u001b[0;34m)\u001b[0m\u001b[0;34m\u001b[0m\u001b[0;34m\u001b[0m\u001b[0m\n\u001b[0m\u001b[1;32m     75\u001b[0m             \u001b[0mbst\u001b[0m\u001b[0;34m.\u001b[0m\u001b[0msave_rabit_checkpoint\u001b[0m\u001b[0;34m(\u001b[0m\u001b[0;34m)\u001b[0m\u001b[0;34m\u001b[0m\u001b[0;34m\u001b[0m\u001b[0m\n\u001b[1;32m     76\u001b[0m             \u001b[0mversion\u001b[0m \u001b[0;34m+=\u001b[0m \u001b[0;36m1\u001b[0m\u001b[0;34m\u001b[0m\u001b[0;34m\u001b[0m\u001b[0m\n",
      "\u001b[0;32m~/anaconda3/lib/python3.7/site-packages/xgboost/core.py\u001b[0m in \u001b[0;36mupdate\u001b[0;34m(self, dtrain, iteration, fobj)\u001b[0m\n\u001b[1;32m   1107\u001b[0m         \u001b[0;32mif\u001b[0m \u001b[0mfobj\u001b[0m \u001b[0;32mis\u001b[0m \u001b[0;32mNone\u001b[0m\u001b[0;34m:\u001b[0m\u001b[0;34m\u001b[0m\u001b[0;34m\u001b[0m\u001b[0m\n\u001b[1;32m   1108\u001b[0m             _check_call(_LIB.XGBoosterUpdateOneIter(self.handle, ctypes.c_int(iteration),\n\u001b[0;32m-> 1109\u001b[0;31m                                                     dtrain.handle))\n\u001b[0m\u001b[1;32m   1110\u001b[0m         \u001b[0;32melse\u001b[0m\u001b[0;34m:\u001b[0m\u001b[0;34m\u001b[0m\u001b[0;34m\u001b[0m\u001b[0m\n\u001b[1;32m   1111\u001b[0m             \u001b[0mpred\u001b[0m \u001b[0;34m=\u001b[0m \u001b[0mself\u001b[0m\u001b[0;34m.\u001b[0m\u001b[0mpredict\u001b[0m\u001b[0;34m(\u001b[0m\u001b[0mdtrain\u001b[0m\u001b[0;34m)\u001b[0m\u001b[0;34m\u001b[0m\u001b[0;34m\u001b[0m\u001b[0m\n",
      "\u001b[0;31mKeyboardInterrupt\u001b[0m: "
     ]
    }
   ],
   "source": [
    "kf = KFold(n_splits=10, shuffle=True)\n",
    "for train_idx, val_idx in kf.split(df_train):\n",
    "    X_train, X_val = df_train[train_idx], df_train[val_idx]\n",
    "    y_train, y_val = target[train_idx], target[val_idx]\n",
    "    xgb_model = xgb.XGBRegressor(\n",
    "                    metric='reg:squarederror',\n",
    "                    n_estimators=500,\n",
    "                    max_depth=20,\n",
    "                    importance_type=\"gain\",\n",
    "                    learning_rate=0.05,\n",
    "                    eval_set = [(X_val, y_val)],\n",
    "                    early_stopping_rounds=100,\n",
    "                    verbose=True\n",
    "                )\n",
    "    print(\"Starting predictions round\")\n",
    "    xgb_model.fit(X_train, y_train, verbose=True)"
   ]
  },
  {
   "cell_type": "code",
   "execution_count": null,
   "metadata": {},
   "outputs": [],
   "source": [
    "with open('model2.pkl', 'wb') as filename:\n",
    "    pickle.dump(xgb_model, filename)"
   ]
  },
  {
   "cell_type": "code",
   "execution_count": null,
   "metadata": {},
   "outputs": [],
   "source": [
    "feature_importance = xgb_model.feature_importances_\n",
    "train_features = train.drop('Target', axis=1).columns"
   ]
  },
  {
   "cell_type": "code",
   "execution_count": null,
   "metadata": {},
   "outputs": [],
   "source": [
    "plt.figure(figsize=(12, 6))\n",
    "sns.barplot(x=feature_importance, y=train_features)\n"
   ]
  }
 ],
 "metadata": {
  "kernelspec": {
   "display_name": "Python 3",
   "language": "python",
   "name": "python3"
  },
  "language_info": {
   "codemirror_mode": {
    "name": "ipython",
    "version": 3
   },
   "file_extension": ".py",
   "mimetype": "text/x-python",
   "name": "python",
   "nbconvert_exporter": "python",
   "pygments_lexer": "ipython3",
   "version": "3.7.3"
  }
 },
 "nbformat": 4,
 "nbformat_minor": 2
}
